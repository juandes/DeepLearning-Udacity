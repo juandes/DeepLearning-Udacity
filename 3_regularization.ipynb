{
 "cells": [
  {
   "cell_type": "markdown",
   "metadata": {
    "colab_type": "text",
    "id": "kR-4eNdK6lYS"
   },
   "source": [
    "Deep Learning\n",
    "=============\n",
    "\n",
    "Assignment 3\n",
    "------------\n",
    "\n",
    "Previously in `2_fullyconnected.ipynb`, you trained a logistic regression and a neural network model.\n",
    "\n",
    "The goal of this assignment is to explore regularization techniques."
   ]
  },
  {
   "cell_type": "code",
   "execution_count": 1,
   "metadata": {
    "cellView": "both",
    "colab": {
     "autoexec": {
      "startup": false,
      "wait_interval": 0
     }
    },
    "colab_type": "code",
    "collapsed": true,
    "id": "JLpLa8Jt7Vu4"
   },
   "outputs": [],
   "source": [
    "# These are all the modules we'll be using later. Make sure you can import them\n",
    "# before proceeding further.\n",
    "from __future__ import print_function\n",
    "import numpy as np\n",
    "import tensorflow as tf\n",
    "from six.moves import cPickle as pickle"
   ]
  },
  {
   "cell_type": "markdown",
   "metadata": {
    "colab_type": "text",
    "id": "1HrCK6e17WzV"
   },
   "source": [
    "First reload the data we generated in _notmist.ipynb_."
   ]
  },
  {
   "cell_type": "code",
   "execution_count": 2,
   "metadata": {
    "cellView": "both",
    "colab": {
     "autoexec": {
      "startup": false,
      "wait_interval": 0
     },
     "output_extras": [
      {
       "item_id": 1
      }
     ]
    },
    "colab_type": "code",
    "collapsed": false,
    "executionInfo": {
     "elapsed": 11777,
     "status": "ok",
     "timestamp": 1449849322348,
     "user": {
      "color": "",
      "displayName": "",
      "isAnonymous": false,
      "isMe": true,
      "permissionId": "",
      "photoUrl": "",
      "sessionId": "0",
      "userId": ""
     },
     "user_tz": 480
    },
    "id": "y3-cj1bpmuxc",
    "outputId": "e03576f1-ebbe-4838-c388-f1777bcc9873"
   },
   "outputs": [
    {
     "name": "stdout",
     "output_type": "stream",
     "text": [
      "Training set (200000, 28, 28) (200000,)\n",
      "Validation set (10000, 28, 28) (10000,)\n",
      "Test set (10000, 28, 28) (10000,)\n"
     ]
    }
   ],
   "source": [
    "pickle_file = 'notMNIST.pickle'\n",
    "\n",
    "with open(pickle_file, 'rb') as f:\n",
    "  save = pickle.load(f)\n",
    "  train_dataset = save['train_dataset']\n",
    "  train_labels = save['train_labels']\n",
    "  valid_dataset = save['valid_dataset']\n",
    "  valid_labels = save['valid_labels']\n",
    "  test_dataset = save['test_dataset']\n",
    "  test_labels = save['test_labels']\n",
    "  del save  # hint to help gc free up memory\n",
    "  print('Training set', train_dataset.shape, train_labels.shape)\n",
    "  print('Validation set', valid_dataset.shape, valid_labels.shape)\n",
    "  print('Test set', test_dataset.shape, test_labels.shape)"
   ]
  },
  {
   "cell_type": "markdown",
   "metadata": {
    "colab_type": "text",
    "id": "L7aHrm6nGDMB"
   },
   "source": [
    "Reformat into a shape that's more adapted to the models we're going to train:\n",
    "- data as a flat matrix,\n",
    "- labels as float 1-hot encodings."
   ]
  },
  {
   "cell_type": "code",
   "execution_count": 3,
   "metadata": {
    "cellView": "both",
    "colab": {
     "autoexec": {
      "startup": false,
      "wait_interval": 0
     },
     "output_extras": [
      {
       "item_id": 1
      }
     ]
    },
    "colab_type": "code",
    "collapsed": false,
    "executionInfo": {
     "elapsed": 11728,
     "status": "ok",
     "timestamp": 1449849322356,
     "user": {
      "color": "",
      "displayName": "",
      "isAnonymous": false,
      "isMe": true,
      "permissionId": "",
      "photoUrl": "",
      "sessionId": "0",
      "userId": ""
     },
     "user_tz": 480
    },
    "id": "IRSyYiIIGIzS",
    "outputId": "3f8996ee-3574-4f44-c953-5c8a04636582"
   },
   "outputs": [
    {
     "name": "stdout",
     "output_type": "stream",
     "text": [
      "Training set (200000, 784) (200000, 10)\n",
      "Validation set (10000, 784) (10000, 10)\n",
      "Test set (10000, 784) (10000, 10)\n"
     ]
    }
   ],
   "source": [
    "image_size = 28\n",
    "num_labels = 10\n",
    "\n",
    "def reformat(dataset, labels):\n",
    "  dataset = dataset.reshape((-1, image_size * image_size)).astype(np.float32)\n",
    "  # Map 2 to [0.0, 1.0, 0.0 ...], 3 to [0.0, 0.0, 1.0 ...]\n",
    "  labels = (np.arange(num_labels) == labels[:,None]).astype(np.float32)\n",
    "  return dataset, labels\n",
    "train_dataset, train_labels = reformat(train_dataset, train_labels)\n",
    "valid_dataset, valid_labels = reformat(valid_dataset, valid_labels)\n",
    "test_dataset, test_labels = reformat(test_dataset, test_labels)\n",
    "print('Training set', train_dataset.shape, train_labels.shape)\n",
    "print('Validation set', valid_dataset.shape, valid_labels.shape)\n",
    "print('Test set', test_dataset.shape, test_labels.shape)"
   ]
  },
  {
   "cell_type": "code",
   "execution_count": 4,
   "metadata": {
    "cellView": "both",
    "colab": {
     "autoexec": {
      "startup": false,
      "wait_interval": 0
     }
    },
    "colab_type": "code",
    "collapsed": true,
    "id": "RajPLaL_ZW6w"
   },
   "outputs": [],
   "source": [
    "def accuracy(predictions, labels):\n",
    "  return (100.0 * np.sum(np.argmax(predictions, 1) == np.argmax(labels, 1))\n",
    "          / predictions.shape[0])"
   ]
  },
  {
   "cell_type": "markdown",
   "metadata": {
    "colab_type": "text",
    "id": "sgLbUAQ1CW-1"
   },
   "source": [
    "---\n",
    "Problem 1\n",
    "---------\n",
    "\n",
    "Introduce and tune L2 regularization for both logistic and neural network models. Remember that L2 amounts to adding a penalty on the norm of the weights to the loss. In TensorFlow, you can compute the L2 loss for a tensor `t` using `nn.l2_loss(t)`. The right amount of regularization should improve your validation / test accuracy.\n",
    "\n",
    "---"
   ]
  },
  {
   "cell_type": "markdown",
   "metadata": {},
   "source": [
    "---\n",
    "Problem 1a\n",
    "----------\n",
    "\n",
    "Logistic regression with L2 regularization\n",
    "\n",
    "---"
   ]
  },
  {
   "cell_type": "code",
   "execution_count": 17,
   "metadata": {
    "collapsed": true
   },
   "outputs": [],
   "source": [
    "# PREPARATION STEP\n",
    "\n",
    "batch_size = 128\n",
    "\n",
    "graph = tf.Graph()\n",
    "with graph.as_default():\n",
    "\n",
    "  # Input data. For the training data, we use a placeholder that will be fed\n",
    "  # at run time with a training minibatch.\n",
    "  tf_train_dataset = tf.placeholder(tf.float32,\n",
    "                                    shape=(batch_size, image_size * image_size))\n",
    "  tf_train_labels = tf.placeholder(tf.float32, shape=(batch_size, num_labels))\n",
    "  tf_valid_dataset = tf.constant(valid_dataset)\n",
    "  tf_test_dataset = tf.constant(test_dataset)\n",
    "  \n",
    "  # Variables.\n",
    "  weights = tf.Variable(\n",
    "    tf.truncated_normal([image_size * image_size, num_labels]))\n",
    "  biases = tf.Variable(tf.zeros([num_labels]))\n",
    "  \n",
    "  # Training computation.\n",
    "  logits = tf.matmul(tf_train_dataset, weights) + biases\n",
    "  # Added the L2 regularization here. The 0.002 value is the beta value\n",
    "  # This beta value is purely arbitrary, I chose it because the accuracy seems the highest\n",
    "  loss = tf.reduce_mean(\n",
    "    tf.nn.softmax_cross_entropy_with_logits(logits, tf_train_labels)) + 0.002 * tf.nn.l2_loss(weights)\n",
    "  \n",
    "  # Optimizer.\n",
    "  optimizer = tf.train.GradientDescentOptimizer(0.5).minimize(loss)\n",
    "  \n",
    "  # Predictions for the training, validation, and test data.\n",
    "  train_prediction = tf.nn.softmax(logits)\n",
    "  valid_prediction = tf.nn.softmax(\n",
    "    tf.matmul(tf_valid_dataset, weights) + biases)\n",
    "  test_prediction = tf.nn.softmax(tf.matmul(tf_test_dataset, weights) + biases)"
   ]
  },
  {
   "cell_type": "code",
   "execution_count": 18,
   "metadata": {
    "collapsed": false
   },
   "outputs": [
    {
     "name": "stdout",
     "output_type": "stream",
     "text": [
      "Initialized\n",
      "Minibatch loss at step 0: 24.973557\n",
      "Minibatch accuracy: 7.0%\n",
      "Validation accuracy: 11.3%\n",
      "Minibatch loss at step 500: 3.015771\n",
      "Minibatch accuracy: 78.9%\n",
      "Validation accuracy: 56.9%\n",
      "Minibatch loss at step 1000: 1.189450\n",
      "Minibatch accuracy: 82.0%\n",
      "Validation accuracy: 62.2%\n",
      "Minibatch loss at step 1500: 0.738853\n",
      "Minibatch accuracy: 89.1%\n",
      "Validation accuracy: 64.7%\n",
      "Minibatch loss at step 2000: 0.658983\n",
      "Minibatch accuracy: 81.2%\n",
      "Validation accuracy: 65.3%\n",
      "Minibatch loss at step 2500: 0.727992\n",
      "Minibatch accuracy: 83.6%\n",
      "Validation accuracy: 64.8%\n",
      "Minibatch loss at step 3000: 0.583065\n",
      "Minibatch accuracy: 85.9%\n",
      "Validation accuracy: 65.3%\n",
      "Test accuracy: 88.8%\n"
     ]
    }
   ],
   "source": [
    "# EXECUTION STEP\n",
    "\n",
    "num_steps = 3001\n",
    "\n",
    "with tf.Session(graph=graph) as session:\n",
    "  tf.initialize_all_variables().run()\n",
    "  print(\"Initialized\")\n",
    "  for step in range(num_steps):\n",
    "    # Pick an offset within the training data, which has been randomized.\n",
    "    # Note: we could use better randomization across epochs.\n",
    "    offset = (step * batch_size) % (train_labels.shape[0] - batch_size)\n",
    "    # Generate a minibatch.\n",
    "    batch_data = train_dataset[offset:(offset + batch_size), :]\n",
    "    batch_labels = train_labels[offset:(offset + batch_size), :]\n",
    "    # Prepare a dictionary telling the session where to feed the minibatch.\n",
    "    # The key of the dictionary is the placeholder node of the graph to be fed,\n",
    "    # and the value is the numpy array to feed to it.\n",
    "    feed_dict = {tf_train_dataset : batch_data, tf_train_labels : batch_labels}\n",
    "    _, l, predictions = session.run(\n",
    "      [optimizer, loss, train_prediction], feed_dict=feed_dict)\n",
    "    if (step % 500 == 0):\n",
    "      print(\"Minibatch loss at step %d: %f\" % (step, l))\n",
    "      print(\"Minibatch accuracy: %.1f%%\" % accuracy(predictions, batch_labels))\n",
    "      print(\"Validation accuracy: %.1f%%\" % accuracy(\n",
    "        valid_prediction.eval(), valid_labels))\n",
    "  print(\"Test accuracy: %.1f%%\" % accuracy(test_prediction.eval(), test_labels))"
   ]
  },
  {
   "cell_type": "markdown",
   "metadata": {},
   "source": [
    "---\n",
    "Problem 1b\n",
    "----------\n",
    "\n",
    "Neural network with L2 regularization\n",
    "\n",
    "---"
   ]
  },
  {
   "cell_type": "code",
   "execution_count": 36,
   "metadata": {
    "collapsed": false
   },
   "outputs": [
    {
     "name": "stdout",
     "output_type": "stream",
     "text": [
      "Tensor(\"Relu:0\", shape=TensorShape([Dimension(300), Dimension(1024)]), dtype=float32)\n",
      "TensorShape([Dimension(1024), Dimension(10)])\n"
     ]
    }
   ],
   "source": [
    "# This tutorial helps a lot: https://www.tensorflow.org/versions/v0.6.0/tutorials/mnist/tf/index.html\n",
    "# PREPARATION STEP\n",
    "hidden_nodes = 1024\n",
    "batch_size = 300\n",
    "beta = 0.002\n",
    "\n",
    "graph = tf.Graph()\n",
    "with graph.as_default():\n",
    "    tf_train_dataset = tf.placeholder(tf.float32,\n",
    "                                      shape=(batch_size, image_size * image_size))\n",
    "    tf_train_labels = tf.placeholder(tf.float32, shape=(batch_size, num_labels))\n",
    "    tf_valid_dataset = tf.constant(valid_dataset)\n",
    "    tf_test_dataset = tf.constant(test_dataset)\n",
    "\n",
    "    # Set hidden layer\n",
    "    hl_weights = tf.Variable(tf.truncated_normal([image_size * image_size, hidden_nodes]))\n",
    "    hl_biases = tf.Variable(tf.zeros([hidden_nodes]))\n",
    "    hidden_layer = tf.nn.relu(tf.matmul(tf_train_dataset, hl_weights) + hl_biases)\n",
    "    print(hidden_layer)\n",
    "    \n",
    "    # Set output layer\n",
    "    ol_weights = tf.Variable(tf.truncated_normal([hidden_nodes, num_labels]))\n",
    "    print(ol_weights.get_shape())\n",
    "    ol_biases = tf.Variable(tf.zeros([num_labels]))\n",
    "    \n",
    "    # Training computation\n",
    "    logits = tf.matmul(hidden_layer, ol_weights) + ol_biases\n",
    "    loss = tf.reduce_mean(\n",
    "        tf.nn.softmax_cross_entropy_with_logits(logits, tf_train_labels))\n",
    "    \n",
    "    loss = loss + beta * (tf.nn.l2_loss(hl_weights) + tf.nn.l2_loss(ol_weights))\n",
    "    \n",
    "    # Optimizer - for finding the minimum of the loss using gradient descent\n",
    "    optimizer = tf.train.GradientDescentOptimizer(0.5).minimize(loss)  \n",
    "    \n",
    "    # Predictions for the training, validation and test data\n",
    "    train_prediction = tf.nn.softmax(logits)\n",
    "    valid_prediction = tf.nn.softmax(\n",
    "        tf.matmul(tf.nn.relu(tf.matmul(tf_valid_dataset, hl_weights) + hl_biases), ol_weights) + ol_biases)\n",
    "    test_prediction = tf.nn.softmax(\n",
    "        tf.matmul(tf.nn.relu(tf.matmul(tf_test_dataset, hl_weights) + hl_biases),ol_weights)+ ol_biases)"
   ]
  },
  {
   "cell_type": "code",
   "execution_count": 40,
   "metadata": {
    "collapsed": false
   },
   "outputs": [
    {
     "name": "stdout",
     "output_type": "stream",
     "text": [
      "Initialized\n",
      "Minibatch loss at step 0: 1056.627686\n",
      "Minibatch accuracy: 11.0%\n",
      "Validation accuracy: 24.4%\n",
      "Minibatch loss at step 500: 230.231964\n",
      "Minibatch accuracy: 79.0%\n",
      "Validation accuracy: 61.1%\n",
      "Minibatch loss at step 1000: 83.315727\n",
      "Minibatch accuracy: 83.3%\n",
      "Validation accuracy: 65.8%\n",
      "Minibatch loss at step 1500: 30.762358\n",
      "Minibatch accuracy: 84.7%\n",
      "Validation accuracy: 71.0%\n",
      "Minibatch loss at step 2000: 11.569753\n",
      "Minibatch accuracy: 87.0%\n",
      "Validation accuracy: 73.1%\n",
      "Minibatch loss at step 2500: 4.566609\n",
      "Minibatch accuracy: 87.7%\n",
      "Validation accuracy: 74.3%\n",
      "Minibatch loss at step 3000: 2.042636\n",
      "Minibatch accuracy: 87.3%\n",
      "Validation accuracy: 75.0%\n",
      "Minibatch loss at step 3500: 1.060551\n",
      "Minibatch accuracy: 88.7%\n",
      "Validation accuracy: 75.0%\n",
      "Minibatch loss at step 4000: 0.767768\n",
      "Minibatch accuracy: 88.0%\n",
      "Validation accuracy: 75.2%\n",
      "Minibatch loss at step 4500: 0.552370\n",
      "Minibatch accuracy: 91.0%\n",
      "Validation accuracy: 75.6%\n",
      "Minibatch loss at step 5000: 0.516656\n",
      "Minibatch accuracy: 89.7%\n",
      "Validation accuracy: 74.9%\n",
      "Minibatch loss at step 5500: 0.453808\n",
      "Minibatch accuracy: 90.0%\n",
      "Validation accuracy: 75.6%\n",
      "Minibatch loss at step 6000: 0.453608\n",
      "Minibatch accuracy: 90.3%\n",
      "Validation accuracy: 75.6%\n",
      "Minibatch loss at step 6500: 0.560553\n",
      "Minibatch accuracy: 87.3%\n",
      "Validation accuracy: 75.0%\n",
      "Minibatch loss at step 7000: 0.534942\n",
      "Minibatch accuracy: 90.0%\n",
      "Validation accuracy: 76.0%\n",
      "Minibatch loss at step 7500: 0.561222\n",
      "Minibatch accuracy: 87.0%\n",
      "Validation accuracy: 75.0%\n",
      "Minibatch loss at step 8000: 0.382034\n",
      "Minibatch accuracy: 93.0%\n",
      "Validation accuracy: 75.5%\n",
      "Minibatch loss at step 8500: 0.605759\n",
      "Minibatch accuracy: 86.3%\n",
      "Validation accuracy: 74.6%\n",
      "Minibatch loss at step 9000: 0.564002\n",
      "Minibatch accuracy: 87.3%\n",
      "Validation accuracy: 74.7%\n",
      "Minibatch loss at step 9500: 0.444628\n",
      "Minibatch accuracy: 90.0%\n",
      "Validation accuracy: 75.6%\n",
      "Minibatch loss at step 10000: 0.482424\n",
      "Minibatch accuracy: 90.7%\n",
      "Validation accuracy: 76.0%\n",
      "Test accuracy: 94.2%\n"
     ]
    }
   ],
   "source": [
    "# EXECUTION STEP\n",
    "num_steps = 10001\n",
    "with tf.Session(graph=graph) as session:\n",
    "    tf.initialize_all_variables().run()\n",
    "    print ('Initialized')\n",
    "    for step in xrange(num_steps):\n",
    "        # Pick an offset within the training data, which has been randomized.\n",
    "        # Note: we could use better randomization across epochs.\n",
    "        offset = (step * batch_size) % (train_labels.shape[0] - batch_size)\n",
    "        # Generate a minibatch.\n",
    "        batch_data = train_dataset[offset:(offset + batch_size), :]\n",
    "        batch_labels = train_labels[offset:(offset + batch_size), :]\n",
    "        # Prepare a dictionary telling the session where to feed the minibatch.\n",
    "        # The key of the dictionary is the placeholder node of the graph to be fed,\n",
    "        # and the value is the numpy array to feed to it.\n",
    "        feed_dict = {tf_train_dataset : batch_data, tf_train_labels : batch_labels}\n",
    "        _, l, predictions = session.run(\n",
    "           [optimizer, loss, train_prediction], feed_dict=feed_dict)\n",
    "        if (step % 500 == 0):\n",
    "            print(\"Minibatch loss at step %d: %f\" % (step, l))\n",
    "            print(\"Minibatch accuracy: %.1f%%\" % accuracy(predictions, batch_labels))\n",
    "            print(\"Validation accuracy: %.1f%%\" % accuracy(valid_prediction.eval(), valid_labels))\n",
    "    print(\"Test accuracy: %.1f%%\" % accuracy(test_prediction.eval(), test_labels))"
   ]
  },
  {
   "cell_type": "markdown",
   "metadata": {
    "colab_type": "text",
    "id": "na8xX2yHZzNF"
   },
   "source": [
    "---\n",
    "Problem 2\n",
    "---------\n",
    "Let's demonstrate an extreme case of overfitting. Restrict your training data to just a few batches. What happens?\n",
    "\n",
    "---"
   ]
  },
  {
   "cell_type": "code",
   "execution_count": 24,
   "metadata": {
    "collapsed": false
   },
   "outputs": [
    {
     "name": "stdout",
     "output_type": "stream",
     "text": [
      "Tensor(\"Relu:0\", shape=TensorShape([Dimension(10), Dimension(1024)]), dtype=float32)\n",
      "TensorShape([Dimension(1024), Dimension(10)])\n"
     ]
    }
   ],
   "source": [
    "# This tutorial helps a lot: https://www.tensorflow.org/versions/v0.6.0/tutorials/mnist/tf/index.html\n",
    "# PREPARATION STEP\n",
    "hidden_nodes = 1024\n",
    "batch_size = 10\n",
    "beta = 0.002\n",
    "\n",
    "graph = tf.Graph()\n",
    "with graph.as_default():\n",
    "    tf_train_dataset = tf.placeholder(tf.float32,\n",
    "                                      shape=(batch_size, image_size * image_size))\n",
    "    tf_train_labels = tf.placeholder(tf.float32, shape=(batch_size, num_labels))\n",
    "    tf_valid_dataset = tf.constant(valid_dataset)\n",
    "    tf_test_dataset = tf.constant(test_dataset)\n",
    "\n",
    "    # Set hidden layer\n",
    "    hl_weights = tf.Variable(tf.truncated_normal([image_size * image_size, hidden_nodes]))\n",
    "    hl_biases = tf.Variable(tf.zeros([hidden_nodes]))\n",
    "    hidden_layer = tf.nn.relu(tf.matmul(tf_train_dataset, hl_weights) + hl_biases)\n",
    "    print(hidden_layer)\n",
    "    \n",
    "    # Set output layer\n",
    "    ol_weights = tf.Variable(tf.truncated_normal([hidden_nodes, num_labels]))\n",
    "    print(ol_weights.get_shape())\n",
    "    ol_biases = tf.Variable(tf.zeros([num_labels]))\n",
    "    \n",
    "    # Training computation\n",
    "    logits = tf.matmul(hidden_layer, ol_weights) + ol_biases\n",
    "    loss = tf.reduce_mean(\n",
    "        tf.nn.softmax_cross_entropy_with_logits(logits, tf_train_labels))\n",
    "    \n",
    "    loss = loss + beta * (tf.nn.l2_loss(hl_weights) + tf.nn.l2_loss(ol_weights))\n",
    "    \n",
    "    # Optimizer - for finding the minimum of the loss using gradient descent\n",
    "    optimizer = tf.train.GradientDescentOptimizer(0.5).minimize(loss)  \n",
    "    \n",
    "    # Predictions for the training, validation and test data\n",
    "    train_prediction = tf.nn.softmax(logits)\n",
    "    valid_prediction = tf.nn.softmax(\n",
    "        tf.matmul(tf.nn.relu(tf.matmul(tf_valid_dataset, hl_weights) + hl_biases), ol_weights) + ol_biases)\n",
    "    test_prediction = tf.nn.softmax(\n",
    "        tf.matmul(tf.nn.relu(tf.matmul(tf_test_dataset, hl_weights) + hl_biases),ol_weights)+ ol_biases)"
   ]
  },
  {
   "cell_type": "code",
   "execution_count": 25,
   "metadata": {
    "collapsed": false
   },
   "outputs": [
    {
     "name": "stdout",
     "output_type": "stream",
     "text": [
      "Initialized\n",
      "Minibatch loss at step 0: 863.855835\n",
      "Minibatch accuracy: 20.0%\n",
      "Validation accuracy: 14.6%\n",
      "Minibatch loss at step 500: 3553.364746\n",
      "Minibatch accuracy: 50.0%\n",
      "Validation accuracy: 44.4%\n",
      "Minibatch loss at step 1000: 15120.307617\n",
      "Minibatch accuracy: 60.0%\n",
      "Validation accuracy: 39.1%\n",
      "Minibatch loss at step 1500: 5097.240723\n",
      "Minibatch accuracy: 40.0%\n",
      "Validation accuracy: 40.0%\n",
      "Minibatch loss at step 2000: 1844.047119\n",
      "Minibatch accuracy: 30.0%\n",
      "Validation accuracy: 35.2%\n",
      "Minibatch loss at step 2500: 621.431091\n",
      "Minibatch accuracy: 40.0%\n",
      "Validation accuracy: 23.5%\n",
      "Minibatch loss at step 3000: 228.831039\n",
      "Minibatch accuracy: 10.0%\n",
      "Validation accuracy: 27.4%\n",
      "Test accuracy: 42.0%\n"
     ]
    }
   ],
   "source": [
    "# EXECUTION STEP\n",
    "num_steps = 3001\n",
    "with tf.Session(graph=graph) as session:\n",
    "    tf.initialize_all_variables().run()\n",
    "    print ('Initialized')\n",
    "    for step in xrange(num_steps):\n",
    "        # Pick an offset within the training data, which has been randomized.\n",
    "        # Note: we could use better randomization across epochs.\n",
    "        offset = (step * batch_size) % (train_labels.shape[0] - batch_size)\n",
    "        # Generate a minibatch.\n",
    "        batch_data = train_dataset[offset:(offset + batch_size), :]\n",
    "        batch_labels = train_labels[offset:(offset + batch_size), :]\n",
    "        # Prepare a dictionary telling the session where to feed the minibatch.\n",
    "        # The key of the dictionary is the placeholder node of the graph to be fed,\n",
    "        # and the value is the numpy array to feed to it.\n",
    "        feed_dict = {tf_train_dataset : batch_data, tf_train_labels : batch_labels}\n",
    "        _, l, predictions = session.run(\n",
    "           [optimizer, loss, train_prediction], feed_dict=feed_dict)\n",
    "        if (step % 500 == 0):\n",
    "            print(\"Minibatch loss at step %d: %f\" % (step, l))\n",
    "            print(\"Minibatch accuracy: %.1f%%\" % accuracy(predictions, batch_labels))\n",
    "            print(\"Validation accuracy: %.1f%%\" % accuracy(valid_prediction.eval(), valid_labels))\n",
    "    print(\"Test accuracy: %.1f%%\" % accuracy(test_prediction.eval(), test_labels))"
   ]
  },
  {
   "cell_type": "markdown",
   "metadata": {
    "colab_type": "text",
    "id": "ww3SCBUdlkRc"
   },
   "source": [
    "---\n",
    "Problem 3\n",
    "---------\n",
    "Introduce Dropout on the hidden layer of the neural network. Remember: Dropout should only be introduced during training, not evaluation, otherwise your evaluation results would be stochastic as well. TensorFlow provides `nn.dropout()` for that, but you have to make sure it's only inserted during training.\n",
    "\n",
    "What happens to our extreme overfitting case?\n",
    "\n",
    "---"
   ]
  },
  {
   "cell_type": "code",
   "execution_count": 27,
   "metadata": {
    "collapsed": false
   },
   "outputs": [
    {
     "name": "stdout",
     "output_type": "stream",
     "text": [
      "Tensor(\"dropout/mul_1:0\", shape=TensorShape([Dimension(300), Dimension(1024)]), dtype=float32)\n",
      "TensorShape([Dimension(1024), Dimension(10)])\n"
     ]
    }
   ],
   "source": [
    "# This tutorial helps a lot: https://www.tensorflow.org/versions/v0.6.0/tutorials/mnist/tf/index.html\n",
    "# PREPARATION STEP\n",
    "hidden_nodes = 1024\n",
    "batch_size = 300\n",
    "beta = 0.002\n",
    "\n",
    "graph = tf.Graph()\n",
    "with graph.as_default():\n",
    "    tf_train_dataset = tf.placeholder(tf.float32,\n",
    "                                      shape=(batch_size, image_size * image_size))\n",
    "    tf_train_labels = tf.placeholder(tf.float32, shape=(batch_size, num_labels))\n",
    "    tf_valid_dataset = tf.constant(valid_dataset)\n",
    "    tf_test_dataset = tf.constant(test_dataset)\n",
    "\n",
    "    # Set hidden layer\n",
    "    hl_weights = tf.Variable(tf.truncated_normal([image_size * image_size, hidden_nodes]))\n",
    "    hl_biases = tf.Variable(tf.zeros([hidden_nodes]))\n",
    "    hidden_layer = tf.nn.relu(tf.matmul(tf_train_dataset, hl_weights) + hl_biases)\n",
    "    # Apply dropout\n",
    "    hidden_layer = tf.nn.dropout(hidden_layer, 0.75)\n",
    "    print(hidden_layer)\n",
    "    \n",
    "    # Set output layer\n",
    "    ol_weights = tf.Variable(tf.truncated_normal([hidden_nodes, num_labels]))\n",
    "    print(ol_weights.get_shape())\n",
    "    ol_biases = tf.Variable(tf.zeros([num_labels]))\n",
    "    \n",
    "    # Training computation\n",
    "    logits = tf.matmul(hidden_layer, ol_weights) + ol_biases\n",
    "    loss = tf.reduce_mean(\n",
    "        tf.nn.softmax_cross_entropy_with_logits(logits, tf_train_labels))\n",
    "    \n",
    "    loss = loss + beta * (tf.nn.l2_loss(hl_weights) + tf.nn.l2_loss(ol_weights))\n",
    "    \n",
    "    # Optimizer - for finding the minimum of the loss using gradient descent\n",
    "    optimizer = tf.train.GradientDescentOptimizer(0.5).minimize(loss)  \n",
    "    \n",
    "    # Predictions for the training, validation and test data\n",
    "    train_prediction = tf.nn.softmax(logits)\n",
    "    valid_prediction = tf.nn.softmax(\n",
    "        tf.matmul(tf.nn.relu(tf.matmul(tf_valid_dataset, hl_weights) + hl_biases), ol_weights) + ol_biases)\n",
    "    test_prediction = tf.nn.softmax(\n",
    "        tf.matmul(tf.nn.relu(tf.matmul(tf_test_dataset, hl_weights) + hl_biases),ol_weights)+ ol_biases)"
   ]
  },
  {
   "cell_type": "code",
   "execution_count": 43,
   "metadata": {
    "collapsed": false
   },
   "outputs": [
    {
     "name": "stdout",
     "output_type": "stream",
     "text": [
      "Initialized\n",
      "Minibatch loss at step 0: 1080.437012\n",
      "Minibatch accuracy: 7.7%\n",
      "Validation accuracy: 23.8%\n",
      "Minibatch loss at step 500: 229.686081\n",
      "Minibatch accuracy: 81.0%\n",
      "Validation accuracy: 63.8%\n",
      "Minibatch loss at step 1000: 83.883369\n",
      "Minibatch accuracy: 78.7%\n",
      "Validation accuracy: 62.4%\n",
      "Minibatch loss at step 1500: 30.841965\n",
      "Minibatch accuracy: 87.0%\n",
      "Validation accuracy: 70.5%\n",
      "Minibatch loss at step 2000: 11.585958\n",
      "Minibatch accuracy: 89.3%\n",
      "Validation accuracy: 73.3%\n",
      "Minibatch loss at step 2500: 4.573484\n",
      "Minibatch accuracy: 89.3%\n",
      "Validation accuracy: 74.1%\n",
      "Minibatch loss at step 3000: 2.043448\n",
      "Minibatch accuracy: 87.3%\n",
      "Validation accuracy: 74.6%\n",
      "Minibatch loss at step 3500: 1.055228\n",
      "Minibatch accuracy: 89.7%\n",
      "Validation accuracy: 74.5%\n",
      "Minibatch loss at step 4000: 0.760237\n",
      "Minibatch accuracy: 88.0%\n",
      "Validation accuracy: 75.2%\n",
      "Minibatch loss at step 4500: 0.552427\n",
      "Minibatch accuracy: 91.0%\n",
      "Validation accuracy: 75.3%\n",
      "Minibatch loss at step 5000: 0.492636\n",
      "Minibatch accuracy: 91.0%\n",
      "Validation accuracy: 75.0%\n",
      "Minibatch loss at step 5500: 0.472030\n",
      "Minibatch accuracy: 91.3%\n",
      "Validation accuracy: 75.6%\n",
      "Minibatch loss at step 6000: 0.469640\n",
      "Minibatch accuracy: 90.3%\n",
      "Validation accuracy: 75.5%\n",
      "Minibatch loss at step 6500: 0.542319\n",
      "Minibatch accuracy: 88.7%\n",
      "Validation accuracy: 75.3%\n",
      "Minibatch loss at step 7000: 0.540802\n",
      "Minibatch accuracy: 90.0%\n",
      "Validation accuracy: 75.8%\n",
      "Minibatch loss at step 7500: 0.590245\n",
      "Minibatch accuracy: 86.7%\n",
      "Validation accuracy: 74.8%\n",
      "Minibatch loss at step 8000: 0.379747\n",
      "Minibatch accuracy: 91.7%\n",
      "Validation accuracy: 75.5%\n",
      "Minibatch loss at step 8500: 0.604960\n",
      "Minibatch accuracy: 84.7%\n",
      "Validation accuracy: 74.5%\n",
      "Minibatch loss at step 9000: 0.578198\n",
      "Minibatch accuracy: 87.0%\n",
      "Validation accuracy: 75.6%\n",
      "Minibatch loss at step 9500: 0.438452\n",
      "Minibatch accuracy: 89.7%\n",
      "Validation accuracy: 75.6%\n",
      "Minibatch loss at step 10000: 0.480935\n",
      "Minibatch accuracy: 91.0%\n",
      "Validation accuracy: 76.2%\n",
      "Test accuracy: 94.2%\n"
     ]
    }
   ],
   "source": [
    "# EXECUTION STEP\n",
    "num_steps = 10001\n",
    "with tf.Session(graph=graph) as session:\n",
    "    tf.initialize_all_variables().run()\n",
    "    print ('Initialized')\n",
    "    for step in xrange(num_steps):\n",
    "        # Pick an offset within the training data, which has been randomized.\n",
    "        # Note: we could use better randomization across epochs.\n",
    "        offset = (step * batch_size) % (train_labels.shape[0] - batch_size)\n",
    "        # Generate a minibatch.\n",
    "        batch_data = train_dataset[offset:(offset + batch_size), :]\n",
    "        batch_labels = train_labels[offset:(offset + batch_size), :]\n",
    "        # Prepare a dictionary telling the session where to feed the minibatch.\n",
    "        # The key of the dictionary is the placeholder node of the graph to be fed,\n",
    "        # and the value is the numpy array to feed to it.\n",
    "        feed_dict = {tf_train_dataset : batch_data, tf_train_labels : batch_labels}\n",
    "        _, l, predictions = session.run(\n",
    "           [optimizer, loss, train_prediction], feed_dict=feed_dict)\n",
    "        if (step % 500 == 0):\n",
    "            print(\"Minibatch loss at step %d: %f\" % (step, l))\n",
    "            print(\"Minibatch accuracy: %.1f%%\" % accuracy(predictions, batch_labels))\n",
    "            print(\"Validation accuracy: %.1f%%\" % accuracy(valid_prediction.eval(), valid_labels))\n",
    "    print(\"Test accuracy: %.1f%%\" % accuracy(test_prediction.eval(), test_labels))"
   ]
  },
  {
   "cell_type": "markdown",
   "metadata": {},
   "source": [
    "---\n",
    "Notes about problem 3\n",
    "----------\n",
    "\n",
    "Dropout seems to give a better result if the number of steps is greater than the \"default\" one I've been using throughout all the assignments (3000). As you can in this problem and in problem 2, the test accuracy is the same.\n",
    "I believe that if I keep increasing the number of steps, the dropout model will perform better.\n",
    "\n",
    "This might change if the `keep_prob` parameter changes. \n",
    "\n",
    "For more info check [https://www.tensorflow.org/versions/r0.7/api_docs/python/nn.html#dropout](Dropout)\n",
    "\n",
    "---"
   ]
  },
  {
   "cell_type": "markdown",
   "metadata": {
    "colab_type": "text",
    "id": "-b1hTz3VWZjw"
   },
   "source": [
    "---\n",
    "Problem 4\n",
    "---------\n",
    "\n",
    "Try to get the best performance you can using a multi-layer model! The best reported test accuracy using a deep network is [97.1%](http://yaroslavvb.blogspot.com/2011/09/notmnist-dataset.html?showComment=1391023266211#c8758720086795711595).\n",
    "\n",
    "One avenue you can explore is to add multiple layers.\n",
    "\n",
    "Another one is to use learning rate decay:\n",
    "\n",
    "    global_step = tf.Variable(0)  # count the number of steps taken.\n",
    "    learning_rate = tf.train.exponential_decay(0.5, step, ...)\n",
    "    optimizer = tf.train.GradientDescentOptimizer(learning_rate).minimize(loss, global_step=global_step)\n",
    " \n",
    " ---\n"
   ]
  },
  {
   "cell_type": "code",
   "execution_count": 5,
   "metadata": {
    "collapsed": false
   },
   "outputs": [
    {
     "name": "stdout",
     "output_type": "stream",
     "text": [
      "Tensor(\"Relu:0\", shape=TensorShape([Dimension(300), Dimension(1024)]), dtype=float32)\n",
      "Tensor(\"Relu_1:0\", shape=TensorShape([Dimension(300), Dimension(300)]), dtype=float32)\n",
      "Tensor(\"Relu_2:0\", shape=TensorShape([Dimension(300), Dimension(50)]), dtype=float32)\n",
      "TensorShape([Dimension(50), Dimension(10)])\n"
     ]
    }
   ],
   "source": [
    "# This tutorial helps a lot: https://www.tensorflow.org/versions/v0.6.0/tutorials/mnist/tf/index.html\n",
    "import math\n",
    "# PREPARATION STEP\n",
    "\n",
    "# This is also the size of the hidden layer 1\n",
    "hidden_nodes = 1024\n",
    "hidden_layer2_size = 300\n",
    "hidden_layer3_size = 50\n",
    "batch_size = 300\n",
    "beta = 0.001\n",
    "\n",
    "graph = tf.Graph()\n",
    "with graph.as_default():\n",
    "    tf_train_dataset = tf.placeholder(tf.float32,\n",
    "                                      shape=(batch_size, image_size * image_size))\n",
    "    tf_train_labels = tf.placeholder(tf.float32, shape=(batch_size, num_labels))\n",
    "    tf_valid_dataset = tf.constant(valid_dataset)\n",
    "    tf_test_dataset = tf.constant(test_dataset)\n",
    "\n",
    "    # Set hidden layer 1\n",
    "    hl_weights = tf.Variable(tf.truncated_normal([image_size * image_size, hidden_nodes],\n",
    "                                                 stddev=math.sqrt(2.0/(image_size * image_size))))\n",
    "    hl_biases = tf.Variable(tf.zeros([hidden_nodes]))\n",
    "    hidden_layer = tf.nn.relu(tf.matmul(tf_train_dataset, hl_weights) + hl_biases)\n",
    "    #hidden_layer = tf.nn.dropout(hidden_layer, 0.75)\n",
    "    print(hidden_layer)\n",
    "    \n",
    "    # Set hidden layer 2\n",
    "    hl2_weights = tf.Variable(tf.truncated_normal([hidden_nodes, hidden_layer2_size],\n",
    "                                                  stddev=math.sqrt(2.0/hidden_nodes)))\n",
    "    hl2_biases = tf.Variable(tf.zeros([hidden_layer2_size]))\n",
    "    hidden_layer2 = tf.nn.relu(tf.matmul(hidden_layer, hl2_weights) + hl2_biases)\n",
    "    #hidden_layer2 = tf.nn.dropout(hidden_layer2, 0.75)\n",
    "    print(hidden_layer2)\n",
    "    \n",
    "    # Set hidden layer 3\n",
    "    hl3_weights = tf.Variable(tf.truncated_normal([hidden_layer2_size, hidden_layer3_size],\n",
    "                                                 stddev=math.sqrt(2.0/hidden_layer2_size)))\n",
    "    hl3_biases = tf.Variable(tf.zeros([hidden_layer3_size]))\n",
    "    hidden_layer3 = tf.nn.relu(tf.matmul(hidden_layer2, hl3_weights) + hl3_biases)\n",
    "    #hidden_layer3 = tf.nn.dropout(hidden_layer3, 0.75)\n",
    "    print(hidden_layer3)\n",
    "    \n",
    "    \n",
    "    # Set output layer\n",
    "    ol_weights = tf.Variable(tf.truncated_normal([hidden_layer3_size, num_labels],\n",
    "                                                stddev=math.sqrt(2.0/hidden_layer3_size)))\n",
    "    print(ol_weights.get_shape())\n",
    "    ol_biases = tf.Variable(tf.zeros([num_labels]))\n",
    "     \n",
    "    # Training computation\n",
    "    logits = tf.matmul(hidden_layer3, ol_weights) + ol_biases\n",
    "    loss = tf.reduce_mean(\n",
    "        tf.nn.softmax_cross_entropy_with_logits(logits, tf_train_labels))\n",
    "    \n",
    "    # L2 regularization\n",
    "    loss = loss + beta * (tf.nn.l2_loss(hl_weights) + tf.nn.l2_loss(hl2_weights)\n",
    "                          + tf.nn.l2_loss(hl3_weights) + tf.nn.l2_loss(ol_weights))\n",
    "    \n",
    "    '''\n",
    "    Optimizer - for finding the minimum of the loss using gradient descent.\n",
    "    Exponential decay is also applied here\n",
    "    '''\n",
    "    global_step = tf.Variable(0)  # count the number of steps taken.\n",
    "    learning_rate = tf.train.exponential_decay(learning_rate=0.5, global_step=global_step,\n",
    "                                               decay_steps=100, decay_rate=0.86, staircase=True)\n",
    "    optimizer = tf.train.GradientDescentOptimizer(learning_rate).minimize(loss, global_step=global_step)\n",
    "    \n",
    "    # Predictions for the training, validation and test data\n",
    "    train_prediction = tf.nn.softmax(logits)\n",
    "    \n",
    "    \n",
    "    valid_prediction = tf.nn.softmax(\n",
    "        tf.matmul(tf.nn.relu(tf.matmul(tf.nn.relu(tf.matmul(tf.nn.relu(tf.matmul(\n",
    "                                tf_valid_dataset, hl_weights) + hl_biases), hl2_weights) + hl2_biases),\n",
    "                                      hl3_weights) + hl3_biases), ol_weights) + ol_biases)\n",
    "    \n",
    "    test_prediction = tf.nn.softmax(\n",
    "        tf.matmul(tf.nn.relu(tf.matmul(tf.nn.relu(tf.matmul(tf.nn.relu(tf.matmul(\n",
    "                                tf_test_dataset, hl_weights) + hl_biases), hl2_weights) + hl2_biases),\n",
    "                                      hl3_weights) + hl3_biases), ol_weights) + ol_biases)"
   ]
  },
  {
   "cell_type": "code",
   "execution_count": 6,
   "metadata": {
    "collapsed": false
   },
   "outputs": [
    {
     "name": "stdout",
     "output_type": "stream",
     "text": [
      "Initialized\n",
      "Minibatch loss at step 0: 3.345499\n",
      "Minibatch accuracy: 13.3%\n",
      "Validation accuracy: 26.9%\n",
      "Minibatch loss at step 500: 1.160205\n",
      "Minibatch accuracy: 87.7%\n",
      "Validation accuracy: 73.8%\n",
      "Minibatch loss at step 1000: 1.072827\n",
      "Minibatch accuracy: 88.0%\n",
      "Validation accuracy: 75.9%\n",
      "Minibatch loss at step 1500: 1.017812\n",
      "Minibatch accuracy: 86.7%\n",
      "Validation accuracy: 76.1%\n",
      "Minibatch loss at step 2000: 0.866149\n",
      "Minibatch accuracy: 93.0%\n",
      "Validation accuracy: 76.5%\n",
      "Minibatch loss at step 2500: 0.872486\n",
      "Minibatch accuracy: 91.0%\n",
      "Validation accuracy: 76.7%\n",
      "Minibatch loss at step 3000: 0.895210\n",
      "Minibatch accuracy: 91.7%\n",
      "Validation accuracy: 76.8%\n",
      "Minibatch loss at step 3500: 0.839318\n",
      "Minibatch accuracy: 91.7%\n",
      "Validation accuracy: 76.8%\n",
      "Minibatch loss at step 4000: 0.896604\n",
      "Minibatch accuracy: 92.0%\n",
      "Validation accuracy: 76.8%\n",
      "Minibatch loss at step 4500: 0.849578\n",
      "Minibatch accuracy: 92.7%\n",
      "Validation accuracy: 76.8%\n",
      "Minibatch loss at step 5000: 0.839932\n",
      "Minibatch accuracy: 92.3%\n",
      "Validation accuracy: 76.8%\n",
      "Minibatch loss at step 5500: 0.802275\n",
      "Minibatch accuracy: 94.3%\n",
      "Validation accuracy: 76.8%\n",
      "Minibatch loss at step 6000: 0.832206\n",
      "Minibatch accuracy: 92.0%\n",
      "Validation accuracy: 76.8%\n",
      "Minibatch loss at step 6500: 0.911192\n",
      "Minibatch accuracy: 91.0%\n",
      "Validation accuracy: 76.8%\n",
      "Minibatch loss at step 7000: 0.905960\n",
      "Minibatch accuracy: 91.7%\n",
      "Validation accuracy: 76.8%\n",
      "Minibatch loss at step 7500: 0.916109\n",
      "Minibatch accuracy: 91.0%\n",
      "Validation accuracy: 76.8%\n",
      "Minibatch loss at step 8000: 0.755616\n",
      "Minibatch accuracy: 94.3%\n",
      "Validation accuracy: 76.8%\n",
      "Minibatch loss at step 8500: 0.955022\n",
      "Minibatch accuracy: 88.7%\n",
      "Validation accuracy: 76.8%\n",
      "Minibatch loss at step 9000: 0.962087\n",
      "Minibatch accuracy: 89.3%\n",
      "Validation accuracy: 76.8%\n",
      "Minibatch loss at step 9500: 0.809680\n",
      "Minibatch accuracy: 92.3%\n",
      "Validation accuracy: 76.8%\n",
      "Minibatch loss at step 10000: 0.844552\n",
      "Minibatch accuracy: 94.0%\n",
      "Validation accuracy: 76.8%\n",
      "Minibatch loss at step 10500: 0.912175\n",
      "Minibatch accuracy: 90.7%\n",
      "Validation accuracy: 76.8%\n",
      "Minibatch loss at step 11000: 0.834761\n",
      "Minibatch accuracy: 93.0%\n",
      "Validation accuracy: 76.8%\n",
      "Minibatch loss at step 11500: 0.901202\n",
      "Minibatch accuracy: 90.3%\n",
      "Validation accuracy: 76.8%\n",
      "Minibatch loss at step 12000: 0.802585\n",
      "Minibatch accuracy: 95.0%\n",
      "Validation accuracy: 76.8%\n",
      "Minibatch loss at step 12500: 0.839746\n",
      "Minibatch accuracy: 91.3%\n",
      "Validation accuracy: 76.8%\n",
      "Minibatch loss at step 13000: 0.855527\n",
      "Minibatch accuracy: 91.7%\n",
      "Validation accuracy: 76.8%\n",
      "Minibatch loss at step 13500: 0.887599\n",
      "Minibatch accuracy: 90.7%\n",
      "Validation accuracy: 76.8%\n",
      "Minibatch loss at step 14000: 0.912943\n",
      "Minibatch accuracy: 89.7%\n",
      "Validation accuracy: 76.8%\n",
      "Minibatch loss at step 14500: 0.827519\n",
      "Minibatch accuracy: 92.3%\n",
      "Validation accuracy: 76.8%\n",
      "Minibatch loss at step 15000: 0.807179\n",
      "Minibatch accuracy: 93.7%\n",
      "Validation accuracy: 76.8%\n",
      "Test accuracy: 95.0%\n"
     ]
    }
   ],
   "source": [
    "# EXECUTION STEP\n",
    "num_steps = 15001\n",
    "with tf.Session(graph=graph) as session:\n",
    "    tf.initialize_all_variables().run()\n",
    "    print ('Initialized')\n",
    "    for step in xrange(num_steps):\n",
    "        # Pick an offset within the training data, which has been randomized.\n",
    "        # Note: we could use better randomization across epochs.\n",
    "        offset = (step * batch_size) % (train_labels.shape[0] - batch_size)\n",
    "        # Generate a minibatch.\n",
    "        batch_data = train_dataset[offset:(offset + batch_size), :]\n",
    "        batch_labels = train_labels[offset:(offset + batch_size), :]\n",
    "        # Prepare a dictionary telling the session where to feed the minibatch.\n",
    "        # The key of the dictionary is the placeholder node of the graph to be fed,\n",
    "        # and the value is the numpy array to feed to it.\n",
    "        feed_dict = {tf_train_dataset : batch_data, tf_train_labels : batch_labels}\n",
    "        _, l, predictions = session.run(\n",
    "           [optimizer, loss, train_prediction], feed_dict=feed_dict)\n",
    "        if (step % 500 == 0):\n",
    "            print(\"Minibatch loss at step %d: %f\" % (step, l))\n",
    "            print(\"Minibatch accuracy: %.1f%%\" % accuracy(predictions, batch_labels))\n",
    "            print(\"Validation accuracy: %.1f%%\" % accuracy(valid_prediction.eval(), valid_labels))\n",
    "    print(\"Test accuracy: %.1f%%\" % accuracy(test_prediction.eval(), test_labels))"
   ]
  },
  {
   "cell_type": "code",
   "execution_count": null,
   "metadata": {
    "collapsed": true
   },
   "outputs": [],
   "source": []
  }
 ],
 "metadata": {
  "colab": {
   "default_view": {},
   "name": "3_regularization.ipynb",
   "provenance": [],
   "version": "0.3.2",
   "views": {}
  },
  "kernelspec": {
   "display_name": "Python 2",
   "language": "python",
   "name": "python2"
  },
  "language_info": {
   "codemirror_mode": {
    "name": "ipython",
    "version": 2
   },
   "file_extension": ".py",
   "mimetype": "text/x-python",
   "name": "python",
   "nbconvert_exporter": "python",
   "pygments_lexer": "ipython2",
   "version": "2.7.6"
  }
 },
 "nbformat": 4,
 "nbformat_minor": 0
}
